{
 "cells": [
  {
   "cell_type": "code",
   "execution_count": 2,
   "metadata": {},
   "outputs": [
    {
     "data": {
      "text/html": [
       "<div>\n",
       "<style scoped>\n",
       "    .dataframe tbody tr th:only-of-type {\n",
       "        vertical-align: middle;\n",
       "    }\n",
       "\n",
       "    .dataframe tbody tr th {\n",
       "        vertical-align: top;\n",
       "    }\n",
       "\n",
       "    .dataframe thead th {\n",
       "        text-align: right;\n",
       "    }\n",
       "</style>\n",
       "<table border=\"1\" class=\"dataframe\">\n",
       "  <thead>\n",
       "    <tr style=\"text-align: right;\">\n",
       "      <th></th>\n",
       "      <th>data_extracao;predial1;queda_arr;data;feridos;feridos_gr;mortes;morte_post;fatais;auto;taxi;lotacao;onibus_urb;onibus_met;onibus_int;caminhao;moto;carroca;bicicleta;outro;cont_vit;ups;patinete;idacidente;longitude;latitude;log1;log2;tipo_acid;dia_sem;hora;noite_dia;regiao;consorcio</th>\n",
       "    </tr>\n",
       "  </thead>\n",
       "  <tbody>\n",
       "    <tr>\n",
       "      <th>0</th>\n",
       "      <td>2024-03-01 01:33:50;0;0.0;2020-10-17 00:00:00;...</td>\n",
       "    </tr>\n",
       "    <tr>\n",
       "      <th>1</th>\n",
       "      <td>2024-03-01 01:33:50;6699;0.0;2019-01-01 00:00:...</td>\n",
       "    </tr>\n",
       "    <tr>\n",
       "      <th>2</th>\n",
       "      <td>2024-03-01 01:33:50;411;0.0;2019-01-01 00:00:0...</td>\n",
       "    </tr>\n",
       "    <tr>\n",
       "      <th>3</th>\n",
       "      <td>2024-03-01 01:33:50;1500;0.0;2019-01-01 00:00:...</td>\n",
       "    </tr>\n",
       "    <tr>\n",
       "      <th>4</th>\n",
       "      <td>2024-03-01 01:33:50;8799;0.0;2019-01-01 00:00:...</td>\n",
       "    </tr>\n",
       "    <tr>\n",
       "      <th>...</th>\n",
       "      <td>...</td>\n",
       "    </tr>\n",
       "    <tr>\n",
       "      <th>66205</th>\n",
       "      <td>2024-03-01 01:33:50;310.0;0.0;2024-02-28 00:00...</td>\n",
       "    </tr>\n",
       "    <tr>\n",
       "      <th>66206</th>\n",
       "      <td>2024-03-01 01:33:50;847.0;0.0;2024-02-28 00:00...</td>\n",
       "    </tr>\n",
       "    <tr>\n",
       "      <th>66207</th>\n",
       "      <td>2024-03-01 01:33:50;282.0;0.0;2024-02-28 00:00...</td>\n",
       "    </tr>\n",
       "    <tr>\n",
       "      <th>66208</th>\n",
       "      <td>2024-03-01 01:33:50;555.0;0.0;2024-02-28 00:00...</td>\n",
       "    </tr>\n",
       "    <tr>\n",
       "      <th>66209</th>\n",
       "      <td>2024-03-01 01:33:50;2473.0;0.0;2024-02-28 00:0...</td>\n",
       "    </tr>\n",
       "  </tbody>\n",
       "</table>\n",
       "<p>66210 rows × 1 columns</p>\n",
       "</div>"
      ],
      "text/plain": [
       "      data_extracao;predial1;queda_arr;data;feridos;feridos_gr;mortes;morte_post;fatais;auto;taxi;lotacao;onibus_urb;onibus_met;onibus_int;caminhao;moto;carroca;bicicleta;outro;cont_vit;ups;patinete;idacidente;longitude;latitude;log1;log2;tipo_acid;dia_sem;hora;noite_dia;regiao;consorcio\n",
       "0      2024-03-01 01:33:50;0;0.0;2020-10-17 00:00:00;...                                                                                                                                                                                                                                        \n",
       "1      2024-03-01 01:33:50;6699;0.0;2019-01-01 00:00:...                                                                                                                                                                                                                                        \n",
       "2      2024-03-01 01:33:50;411;0.0;2019-01-01 00:00:0...                                                                                                                                                                                                                                        \n",
       "3      2024-03-01 01:33:50;1500;0.0;2019-01-01 00:00:...                                                                                                                                                                                                                                        \n",
       "4      2024-03-01 01:33:50;8799;0.0;2019-01-01 00:00:...                                                                                                                                                                                                                                        \n",
       "...                                                  ...                                                                                                                                                                                                                                        \n",
       "66205  2024-03-01 01:33:50;310.0;0.0;2024-02-28 00:00...                                                                                                                                                                                                                                        \n",
       "66206  2024-03-01 01:33:50;847.0;0.0;2024-02-28 00:00...                                                                                                                                                                                                                                        \n",
       "66207  2024-03-01 01:33:50;282.0;0.0;2024-02-28 00:00...                                                                                                                                                                                                                                        \n",
       "66208  2024-03-01 01:33:50;555.0;0.0;2024-02-28 00:00...                                                                                                                                                                                                                                        \n",
       "66209  2024-03-01 01:33:50;2473.0;0.0;2024-02-28 00:0...                                                                                                                                                                                                                                        \n",
       "\n",
       "[66210 rows x 1 columns]"
      ]
     },
     "execution_count": 2,
     "metadata": {},
     "output_type": "execute_result"
    }
   ],
   "source": [
    "import pandas as pd\n",
    "\n",
    "df = pd.read_csv('C:/Users/User/Desktop/DataScienceCarAcidentData/cat_acidentes.csv')\n",
    "df"
   ]
  },
  {
   "cell_type": "code",
   "execution_count": null,
   "metadata": {},
   "outputs": [],
   "source": []
  }
 ],
 "metadata": {
  "kernelspec": {
   "display_name": "base",
   "language": "python",
   "name": "python3"
  },
  "language_info": {
   "codemirror_mode": {
    "name": "ipython",
    "version": 3
   },
   "file_extension": ".py",
   "mimetype": "text/x-python",
   "name": "python",
   "nbconvert_exporter": "python",
   "pygments_lexer": "ipython3",
   "version": "3.9.7"
  }
 },
 "nbformat": 4,
 "nbformat_minor": 2
}
